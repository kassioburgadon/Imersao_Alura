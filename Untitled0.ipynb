{
  "nbformat": 4,
  "nbformat_minor": 0,
  "metadata": {
    "colab": {
      "provenance": [],
      "authorship_tag": "ABX9TyPE8VHr3hJILiv04pmQ5Byu",
      "include_colab_link": true
    },
    "kernelspec": {
      "name": "python3",
      "display_name": "Python 3"
    },
    "language_info": {
      "name": "python"
    }
  },
  "cells": [
    {
      "cell_type": "markdown",
      "metadata": {
        "id": "view-in-github",
        "colab_type": "text"
      },
      "source": [
        "<a href=\"https://colab.research.google.com/github/kassioburgadon/Imersao_Alura/blob/main/Untitled0.ipynb\" target=\"_parent\"><img src=\"https://colab.research.google.com/assets/colab-badge.svg\" alt=\"Open In Colab\"/></a>"
      ]
    },
    {
      "cell_type": "code",
      "source": [
        "!pip install -q -U google-generativeai"
      ],
      "metadata": {
        "id": "cq_t-7YocS8Y"
      },
      "execution_count": null,
      "outputs": []
    },
    {
      "cell_type": "code",
      "source": [
        "import pandas as pd\n",
        "import requests\n",
        "import json\n",
        "import google.generativeai as genai\n",
        "from google.colab import userdata\n",
        "\n",
        "#Código secreto da Google\n",
        "GOOGLE_API_KEY=userdata.get('gemini_secret')\n",
        "genai.configure(api_key=GOOGLE_API_KEY)\n",
        "model = genai.GenerativeModel('gemini-pro')\n",
        "\n",
        "#Captura do Nome do Jogador\n",
        "nome_completo = input(\"Escreva o nome do jogador para mostrar os dados dele no cartola: \")\n",
        "#Capturar Rodada do Cartola\n",
        "rodada = input(\"Qual rodada gostaria de analisar? \")\n",
        "#Captura o JSON do Cartola\n",
        "url = f'https://api.cartola.globo.com/atletas/pontuados/{rodada}'\n",
        "resposta = requests.request(\"GET\", url)\n",
        "#Filtrar para apenas capturar o Jogador\n",
        "objetos = json.loads(resposta.text)\n",
        "for atleta_id, atleta in objetos[\"atletas\"].items():\n",
        "  if atleta[\"apelido\"].lower() == nome_completo.lower():\n",
        "    jogador = atleta\n",
        "    break\n",
        "#Opções para selecionar para pegar os dados\n",
        "valor = input(\"De qual informação você gostaria? \\n1- Scout do jogador \\n2- Pontuacao do jogador \\n3- Posição do jogador \\n4- Clube do jogador \\n5- Jogador entrou em campo?\\n\")\n",
        "print(f'{atleta[\"apelido\"]}:')\n",
        "if(valor == '1'):\n",
        "  resposta = model.generate_content(f\"Qual foi o scout do {jogador} no json\").text\n",
        "elif(valor == '2'):\n",
        "  resposta = model.generate_content(f\"Qual foi a pontuacao do {jogador} no json\").text\n",
        "  resposta = f'A pontução do jogador nessa rodada foi: {resposta}'\n",
        "elif(valor == '3'):\n",
        "  resposta = model.generate_content(f\"Qual foi o posicao_id do {jogador} no json\").text\n",
        "  resposta = resposta.replace('1','Goleiro')\n",
        "  resposta = resposta.replace('2','Lateral')\n",
        "  resposta = resposta.replace('3','Zagueiro')\n",
        "  resposta = resposta.replace('4','Meio Campo')\n",
        "  resposta = resposta.replace('5','Atacante')\n",
        "  resposta = resposta.replace('6','Técnico')\n",
        "  resposta = resposta.replace('7','Goleiro')\n",
        "  resposta = f'Posição do jogador: {resposta}'\n",
        "elif(valor == '4'):\n",
        "  resposta = model.generate_content(f\"Qual foi o clube_id do {jogador} no json\").text\n",
        "  resposta = resposta.replace('275','Palmeiras')\n",
        "  resposta = resposta.replace('276','São Paulo')\n",
        "  resposta = resposta.replace('264','Corinthians')\n",
        "  resposta = resposta.replace('262','Flamengo')\n",
        "  resposta = resposta.replace('266','Fluminense')\n",
        "  resposta = resposta.replace('293','Atlético Paranaense')\n",
        "  resposta = resposta.replace('265','Bahia')\n",
        "  resposta = resposta.replace('356','Fortaleza')\n",
        "  resposta = resposta.replace('280','Bragantino')\n",
        "  resposta = resposta.replace('263','Botafogo')\n",
        "  resposta = resposta.replace('283','Cruzeiro')\n",
        "  resposta = resposta.replace('267','Vasco')\n",
        "  resposta = resposta.replace('287','Vitória')\n",
        "  resposta = resposta.replace('373','Atlético Goianiense')\n",
        "  resposta = resposta.replace('286','Juventude')\n",
        "  resposta = resposta.replace('284','Gremio')\n",
        "  resposta = resposta.replace('285','Internacional')\n",
        "  resposta = resposta.replace('282','Atlético Mineiro')\n",
        "  resposta = resposta.replace('288','Criciúma')\n",
        "  resposta = resposta.replace('1371','Cuiabá')\n",
        "elif(valor == '5'):\n",
        "  resposta = model.generate_content(f\"Qual foi o entrou_em_campo do {jogador} no json\").text\n",
        "  resposta = resposta.replace(\"True\", \"Sim\")\n",
        "  resposta = resposta.replace(\"False\", \"Não\")\n",
        "print(resposta)"
      ],
      "metadata": {
        "id": "7AeRQuAXK89M"
      },
      "execution_count": 85,
      "outputs": []
    },
    {
      "cell_type": "code",
      "source": [],
      "metadata": {
        "id": "y_8eQNDQ7nH1"
      },
      "execution_count": null,
      "outputs": []
    }
  ]
}